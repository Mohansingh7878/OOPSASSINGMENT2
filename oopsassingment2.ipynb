{
 "cells": [
  {
   "cell_type": "markdown",
   "id": "d50ddc3e-4284-4455-a669-6cb174cb0bb6",
   "metadata": {},
   "source": [
    "Q1. What is Abstraction in OOps? Explain with an example.\n"
   ]
  },
  {
   "cell_type": "markdown",
   "id": "458f81f3-968b-4052-8921-7ebb60e1b48d",
   "metadata": {},
   "source": [
    "ANSWER:--\n",
    "Abstraction :--In object-oriented programming, abstraction is one of three central principles (along with encapsulation and inheritance). Through the process of abstraction, a programmer hides all but the relevant data about an object in order to reduce complexity and increase efficiency."
   ]
  },
  {
   "cell_type": "code",
   "execution_count": 4,
   "id": "ff941ac4-4eef-4be2-b65a-a39e4d2ce948",
   "metadata": {},
   "outputs": [],
   "source": [
    "import abc\n",
    "class fusion_car:\n",
    "    @abc.abstractclassmethod\n",
    "    def car_name(self):\n",
    "        pass\n",
    "    @abc.abstractclassmethod\n",
    "\n",
    "    def car_modal(self):\n",
    "        pass\n",
    "    @abc.abstractclassmethod\n",
    "    def car_speed(self):\n",
    "        pass\n",
    "    "
   ]
  },
  {
   "cell_type": "code",
   "execution_count": 6,
   "id": "7fb9b433-b122-49c1-94f9-fcb4e9badf8b",
   "metadata": {},
   "outputs": [],
   "source": [
    "class big_boy_toys(fusion_car):\n",
    "    def car_name(self):\n",
    "        return\"CAR NAME IS :-- LEMBORGINI\"\n",
    "    def car_modal(self):\n",
    "        return \"Car Model is 2023\"\n",
    "    def car_speed(self):\n",
    "        return \"250 KM/HR.\"\n",
    "    "
   ]
  },
  {
   "cell_type": "code",
   "execution_count": 7,
   "id": "af337178-78e8-4ef2-8286-3efb8c42d92c",
   "metadata": {},
   "outputs": [],
   "source": [
    "BBT = big_boy_toys()"
   ]
  },
  {
   "cell_type": "code",
   "execution_count": 8,
   "id": "42a9966f-af3b-4f49-8415-ea916ead3fd2",
   "metadata": {},
   "outputs": [
    {
     "data": {
      "text/plain": [
       "'CAR NAME IS :-- LEMBORGINI'"
      ]
     },
     "execution_count": 8,
     "metadata": {},
     "output_type": "execute_result"
    }
   ],
   "source": [
    "BBT.car_name()"
   ]
  },
  {
   "cell_type": "code",
   "execution_count": 9,
   "id": "ce04258a-4beb-4abc-82c6-4db001e02487",
   "metadata": {},
   "outputs": [
    {
     "data": {
      "text/plain": [
       "'Car Model is 2023'"
      ]
     },
     "execution_count": 9,
     "metadata": {},
     "output_type": "execute_result"
    }
   ],
   "source": [
    "BBT.car_modal()"
   ]
  },
  {
   "cell_type": "code",
   "execution_count": 11,
   "id": "e5ce9676-5938-41b0-a833-75de08155620",
   "metadata": {},
   "outputs": [
    {
     "data": {
      "text/plain": [
       "'250 KM/HR.'"
      ]
     },
     "execution_count": 11,
     "metadata": {},
     "output_type": "execute_result"
    }
   ],
   "source": [
    "BBT.car_speed()"
   ]
  },
  {
   "cell_type": "markdown",
   "id": "5b0ea715-52a2-478e-b188-4dd163779eeb",
   "metadata": {},
   "source": [
    "Q2. Differentiate between Abstraction and Encapsulation. Explain with an example."
   ]
  },
  {
   "cell_type": "markdown",
   "id": "c0cb0032-d4a4-437b-bd47-6ebcaaccc1e7",
   "metadata": {},
   "source": [
    "answer:---\n",
    "Abstraction is a way of representing some specific data. \n",
    "Encapsulation is a way of hiding the complexity of something and exposing only the parts you wish to expose.\n",
    "For example, if you have a class that has one or more private fields that you use to store the data, then you are in encapsulation."
   ]
  },
  {
   "cell_type": "code",
   "execution_count": null,
   "id": "ed0598fe-65f7-4822-a236-edd635967498",
   "metadata": {},
   "outputs": [],
   "source": []
  },
  {
   "cell_type": "code",
   "execution_count": null,
   "id": "94e0e7c4-11ef-4133-b102-f38835a7dfee",
   "metadata": {},
   "outputs": [],
   "source": []
  },
  {
   "cell_type": "markdown",
   "id": "2ebd3104-aa74-425f-8b1f-68ad15ab85e9",
   "metadata": {},
   "source": [
    "Q3. What is abc module in python? Why is it used?"
   ]
  },
  {
   "cell_type": "markdown",
   "id": "1d5574b8-1b9f-454f-9b76-d5073e820ad7",
   "metadata": {},
   "source": [
    "ANSWER:--\n",
    "The 'abc' module in Python library provides the infrastructure for defining custom abstract base classes. 'abc' works by marking methods of the base class as abstract. This is done by @absttractmethod decorator.\n"
   ]
  },
  {
   "cell_type": "code",
   "execution_count": null,
   "id": "3702b08c-aac8-4b29-a1c3-5a1783d618cc",
   "metadata": {},
   "outputs": [],
   "source": []
  },
  {
   "cell_type": "markdown",
   "id": "6f332d47-aff8-44ed-bfc2-926f6468ffea",
   "metadata": {},
   "source": [
    "Q4. How can we achieve data abstraction?"
   ]
  },
  {
   "cell_type": "markdown",
   "id": "192b9750-3c48-45aa-9c23-11fb57022ae7",
   "metadata": {},
   "source": [
    "ANSWER :--\n",
    "Abstraction using classes: An abstraction can be achieved using classes. A class is used to group all the data members and member functions into a single unit by using the access specifiers. A class has the responsibility to determine which data member is to be visible outside and which is not.\n"
   ]
  },
  {
   "cell_type": "code",
   "execution_count": null,
   "id": "430b27b6-1f1d-4859-8536-b43e483962ac",
   "metadata": {},
   "outputs": [],
   "source": []
  },
  {
   "cell_type": "code",
   "execution_count": null,
   "id": "aba861cd-d4cf-45bc-ae23-8f5461155da0",
   "metadata": {},
   "outputs": [],
   "source": []
  },
  {
   "cell_type": "code",
   "execution_count": null,
   "id": "4cfd8ce8-a190-48d6-a76c-2f7871bda2e2",
   "metadata": {},
   "outputs": [],
   "source": []
  },
  {
   "cell_type": "code",
   "execution_count": null,
   "id": "3222f304-1a59-46ed-8b22-196abb35129d",
   "metadata": {},
   "outputs": [],
   "source": []
  },
  {
   "cell_type": "code",
   "execution_count": null,
   "id": "b11f0640-9380-4a46-8938-98cd718b094a",
   "metadata": {},
   "outputs": [],
   "source": []
  },
  {
   "cell_type": "code",
   "execution_count": null,
   "id": "f9e4024e-c627-4646-a74f-cdae3cb83b43",
   "metadata": {},
   "outputs": [],
   "source": []
  },
  {
   "cell_type": "code",
   "execution_count": null,
   "id": "6ee9abba-5b83-411a-8618-0fc732bb7c8b",
   "metadata": {},
   "outputs": [],
   "source": []
  },
  {
   "cell_type": "code",
   "execution_count": null,
   "id": "7bede770-6f48-4ae6-99e1-4da29033b566",
   "metadata": {},
   "outputs": [],
   "source": []
  },
  {
   "cell_type": "code",
   "execution_count": null,
   "id": "26df07cc-b0e9-4e98-8695-e783e9694ebe",
   "metadata": {},
   "outputs": [],
   "source": []
  },
  {
   "cell_type": "code",
   "execution_count": null,
   "id": "3ffdcea0-dfbf-4877-89ba-c58ea816903f",
   "metadata": {},
   "outputs": [],
   "source": []
  },
  {
   "cell_type": "code",
   "execution_count": null,
   "id": "e94b2471-ee1e-41e5-a5e9-fd1d79405a28",
   "metadata": {},
   "outputs": [],
   "source": []
  },
  {
   "cell_type": "code",
   "execution_count": null,
   "id": "1a045a61-5843-44a4-94bf-9a959e0a34aa",
   "metadata": {},
   "outputs": [],
   "source": []
  },
  {
   "cell_type": "code",
   "execution_count": null,
   "id": "10f1b78a-ac0d-4596-80d2-e448a54a5eb4",
   "metadata": {},
   "outputs": [],
   "source": []
  },
  {
   "cell_type": "code",
   "execution_count": null,
   "id": "3b0fa9cf-2947-4594-a64f-a38b178b3648",
   "metadata": {},
   "outputs": [],
   "source": []
  },
  {
   "cell_type": "code",
   "execution_count": null,
   "id": "edcee661-b70c-4e79-9c13-c54c901734e2",
   "metadata": {},
   "outputs": [],
   "source": []
  },
  {
   "cell_type": "code",
   "execution_count": null,
   "id": "47a06ded-26c0-4f32-b092-5ee65de36e84",
   "metadata": {},
   "outputs": [],
   "source": []
  },
  {
   "cell_type": "code",
   "execution_count": null,
   "id": "e2194069-b64b-4d62-85ae-91e2196b3fa5",
   "metadata": {},
   "outputs": [],
   "source": []
  },
  {
   "cell_type": "code",
   "execution_count": null,
   "id": "2df1e410-7cd2-40ab-8c30-88e7eb3a85d2",
   "metadata": {},
   "outputs": [],
   "source": []
  },
  {
   "cell_type": "code",
   "execution_count": null,
   "id": "2f75b50c-d6a2-48ac-a008-a7e10f4b7dfa",
   "metadata": {},
   "outputs": [],
   "source": []
  },
  {
   "cell_type": "code",
   "execution_count": null,
   "id": "09edcce1-b6de-4a6d-a3e9-89d8d103b4f7",
   "metadata": {},
   "outputs": [],
   "source": []
  },
  {
   "cell_type": "code",
   "execution_count": null,
   "id": "33e5ac28-d3da-4dc5-bb03-f6cc17ce9a55",
   "metadata": {},
   "outputs": [],
   "source": []
  },
  {
   "cell_type": "code",
   "execution_count": null,
   "id": "1fdd8be8-768a-412f-bdc2-4b84667d13c1",
   "metadata": {},
   "outputs": [],
   "source": []
  },
  {
   "cell_type": "code",
   "execution_count": null,
   "id": "22735adc-5b25-480f-9f27-7c8c6c314c3b",
   "metadata": {},
   "outputs": [],
   "source": []
  },
  {
   "cell_type": "code",
   "execution_count": null,
   "id": "1e34f0ef-c932-4f71-9df3-876967e82135",
   "metadata": {},
   "outputs": [],
   "source": []
  },
  {
   "cell_type": "code",
   "execution_count": null,
   "id": "15dd9ded-f54e-4d16-a0b9-e9ef99620285",
   "metadata": {},
   "outputs": [],
   "source": []
  },
  {
   "cell_type": "code",
   "execution_count": null,
   "id": "6d78efb3-2328-4422-8a90-ba95d875d029",
   "metadata": {},
   "outputs": [],
   "source": []
  }
 ],
 "metadata": {
  "kernelspec": {
   "display_name": "Python 3 (ipykernel)",
   "language": "python",
   "name": "python3"
  },
  "language_info": {
   "codemirror_mode": {
    "name": "ipython",
    "version": 3
   },
   "file_extension": ".py",
   "mimetype": "text/x-python",
   "name": "python",
   "nbconvert_exporter": "python",
   "pygments_lexer": "ipython3",
   "version": "3.10.8"
  }
 },
 "nbformat": 4,
 "nbformat_minor": 5
}
